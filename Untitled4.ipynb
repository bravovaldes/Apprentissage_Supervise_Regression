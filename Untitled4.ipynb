{
  "nbformat": 4,
  "nbformat_minor": 0,
  "metadata": {
    "colab": {
      "provenance": [],
      "authorship_tag": "ABX9TyPh2LcsXcRyZg33viIJzo8P",
      "include_colab_link": true
    },
    "kernelspec": {
      "name": "python3",
      "display_name": "Python 3"
    },
    "language_info": {
      "name": "python"
    }
  },
  "cells": [
    {
      "cell_type": "markdown",
      "metadata": {
        "id": "view-in-github",
        "colab_type": "text"
      },
      "source": [
        "<a href=\"https://colab.research.google.com/github/bravovaldes/Apprentissage_Supervise_Regression/blob/main/Untitled4.ipynb\" target=\"_parent\"><img src=\"https://colab.research.google.com/assets/colab-badge.svg\" alt=\"Open In Colab\"/></a>"
      ]
    },
    {
      "cell_type": "code",
      "execution_count": 2,
      "metadata": {
        "id": "mPyePpSb1FjQ"
      },
      "outputs": [],
      "source": [
        "import numpy as np\n",
        "import pandas as pd\n",
        "import matplotlib.pyplot as plt\n",
        "import seaborn as sns\n",
        "# Generer des donnees simules\n",
        "\n",
        "np.random.seed(42)\n",
        "num_samples = 10"
      ]
    },
    {
      "cell_type": "code",
      "source": [
        "age = np.random.randint(18,90,size = num_samples)\n",
        "age"
      ],
      "metadata": {
        "colab": {
          "base_uri": "https://localhost:8080/"
        },
        "id": "O6c9e5g1OlM-",
        "outputId": "ac3fdf93-5234-4492-86e6-9a01d32383c5"
      },
      "execution_count": 3,
      "outputs": [
        {
          "output_type": "execute_result",
          "data": {
            "text/plain": [
              "array([69, 32, 89, 78, 38, 41, 20, 39, 70, 19])"
            ]
          },
          "metadata": {},
          "execution_count": 3
        }
      ]
    },
    {
      "cell_type": "code",
      "source": [
        "income = np.random.randint(20000,100000,size = num_samples)\n",
        "loan_amount = np.random.randint(5000,100000,size = num_samples)\n",
        "num_account = np.random.randint(1,10,size = num_samples)\n"
      ],
      "metadata": {
        "id": "iqlEc3ByOvc1"
      },
      "execution_count": 5,
      "outputs": []
    },
    {
      "cell_type": "code",
      "source": [
        "# Creation des carracteristiques d'entree\n",
        "\n",
        "X= np.column_stack((age,income,loan_amount,num_account)).T\n",
        "X"
      ],
      "metadata": {
        "colab": {
          "base_uri": "https://localhost:8080/"
        },
        "id": "rtSruVknPHSc",
        "outputId": "c59ac507-0f89-4fb2-c432-5e9e87c29654"
      },
      "execution_count": 7,
      "outputs": [
        {
          "output_type": "execute_result",
          "data": {
            "text/plain": [
              "array([[   69,    32,    89,    78,    38,    41,    20,    39,    70,\n",
              "           19],\n",
              "       [22747, 79150, 85725, 55773, 87435, 76886, 86803, 51551, 31394,\n",
              "        89092],\n",
              "       [ 8890, 46606, 85038, 92313, 15627, 13792, 78969, 48001, 81552,\n",
              "        28897],\n",
              "       [    5,     2,     4,     7,     8,     3,     1,     4,     2,\n",
              "            8]])"
            ]
          },
          "metadata": {},
          "execution_count": 7
        }
      ]
    },
    {
      "cell_type": "code",
      "source": [
        "#Fonction d'activation ReLU\n",
        "def relu(x):\n",
        "  return np.maximum(0,x)\n",
        "\n",
        "#Fonction d'activation Sigmoide\n",
        "\n",
        "def sigmoid(x):\n",
        "  return 1/(1+np.exp(-x))"
      ],
      "metadata": {
        "id": "0OrkVR28QKGF"
      },
      "execution_count": null,
      "outputs": []
    },
    {
      "cell_type": "code",
      "source": [
        "np.random.seed(42)\n",
        "# Nombre de neurone\n",
        "\n",
        "W1 = np.random.randn(10,4)\n",
        "b1 = np.random.randn(10)\n",
        "W2 = np.random.randn(10,1)\n",
        "b2 = np.random.randn(1)"
      ],
      "metadata": {
        "id": "8dodDoglQofr"
      },
      "execution_count": null,
      "outputs": []
    }
  ]
}